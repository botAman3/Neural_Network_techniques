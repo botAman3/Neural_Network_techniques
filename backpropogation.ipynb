{
 "cells": [
  {
   "cell_type": "code",
   "execution_count": 2,
   "metadata": {},
   "outputs": [],
   "source": [
    "import numpy as np \n",
    "import pandas as pd "
   ]
  },
  {
   "cell_type": "code",
   "execution_count": 4,
   "metadata": {},
   "outputs": [],
   "source": [
    "df = pd.DataFrame([[8,8,4],\n",
    "                   [7,9,5],\n",
    "                   [6,10,6],\n",
    "                   [5,12,7]] , columns=['cgpa' , 'profile_score' , 'lpa'])"
   ]
  },
  {
   "cell_type": "code",
   "execution_count": 18,
   "metadata": {},
   "outputs": [],
   "source": [
    "def initialize_parameters(layer_dims):\n",
    "    np.random.seed(3)\n",
    "    parameters = {}\n",
    "    L = len(layer_dims)\n",
    "\n",
    "    for l in range(L):\n",
    "        parameters['W' + str(l)] = np.ones((layer_dims[l-1] , layer_dims[1]))*0.1\n",
    "        parameters['b' + str(l)] = np.zeros((layer_dims[l-1] , layer_dims[1]))\n",
    "\n",
    "    return parameters\n",
    "        \n"
   ]
  },
  {
   "cell_type": "code",
   "execution_count": 6,
   "metadata": {},
   "outputs": [
    {
     "data": {
      "text/plain": [
       "{'w0': array([[0.1, 0.1]]),\n",
       " 'b0': array([[0., 0.]]),\n",
       " 'w1': array([[0.1, 0.1],\n",
       "        [0.1, 0.1]]),\n",
       " 'b1': array([[0., 0.],\n",
       "        [0., 0.]]),\n",
       " 'w2': array([[0.1, 0.1],\n",
       "        [0.1, 0.1]]),\n",
       " 'b2': array([[0., 0.],\n",
       "        [0., 0.]])}"
      ]
     },
     "execution_count": 6,
     "metadata": {},
     "output_type": "execute_result"
    }
   ],
   "source": [
    "initialize_parameters([2,2,1])"
   ]
  },
  {
   "cell_type": "code",
   "execution_count": 7,
   "metadata": {},
   "outputs": [],
   "source": [
    "def linear_forward(A_prev , w, b):\n",
    "    z = np.dot(w.T , A_prev) + b \n",
    "    return z \n",
    "    "
   ]
  },
  {
   "cell_type": "code",
   "execution_count": 28,
   "metadata": {},
   "outputs": [],
   "source": [
    "def L_layer_forward(X , parameters):\n",
    "    A = X \n",
    "    L = len(parameters)//2 \n",
    "\n",
    "    for l in range(1 , L):\n",
    "        A_prev = A \n",
    "        wl = parameters['W' + str(l)]\n",
    "        bl = parameters['b' + str(l)]\n",
    "\n",
    "        # print(\"A\"+str(l-1) + \" : \" , A_prev)\n",
    "        # print(\"W\"+str(l-1) + \" : \" , wl)\n",
    "        # print(\"b\"+str(l-1) + \" : \" , bl)\n",
    "\n",
    "        A = linear_forward(A_prev , wl , bl)\n",
    "        # print(\"A\"+str(l)+\" : \" , A)\n",
    "        # print(\"**\"*20)\n",
    "    \n",
    "    return A , A_prev"
   ]
  },
  {
   "cell_type": "code",
   "execution_count": 10,
   "metadata": {},
   "outputs": [],
   "source": [
    "X = df[['cgpa' , 'profile_score']].values[0].reshape(2,1)\n",
    "y = df[['lpa']].values[0][0]\n",
    "\n",
    "parameters = initialize_parameters([2,2,1])"
   ]
  },
  {
   "cell_type": "code",
   "execution_count": 22,
   "metadata": {},
   "outputs": [],
   "source": [
    "def update_parameters (parameters,y,y_hat,A1,X):\n",
    "\n",
    "    parameters['W2'][0][0] = parameters ['W2'][0][0] + (0.001*2* (y - y_hat) *A1[0][0])\n",
    "    parameters['W2'][1][0] = parameters ['W2'][1][0] + (0.001*2*(y - y_hat)*A1[1][0])\n",
    "\n",
    "    parameters['b2'][0][0] = parameters ['W2'] [1][0] + (0.001*2* (y - y_hat))\n",
    "\n",
    "    parameters['W1'][0][0] = parameters['W1'][0][0] + (0.001*2* (y - y_hat)*parameters['W2'][0][0]*X[0][0])\n",
    "    parameters['W1'][0][1] = parameters['W1'][0][1] + (0.001*2* (y - y_hat) *parameters['W2'][0][0]*X[1][0])\n",
    "\n",
    "    parameters['b1'][0][0] = parameters ['b1'][0][0] + (0.001*2* (y - y_hat) *parameters['W2'][0][0])\n",
    "\n",
    "    parameters['W1'] [1][0] = parameters['W1'][1][0] + (0.001*2* (y - y_hat) *parameters['W2'][1][0]*X[0][0])\n",
    "    parameters ['W1'] [1][1] = parameters ['W1'] [1] [1] + (0.001*2* (y - y_hat) *parameters['W2'][1][0]*X[1][0])\n",
    "\n",
    "    parameters['b1'] [1][0] = parameters['b1'] [1] [0] + (0.001*2*(y-y_hat) *parameters['W2'][1][0])"
   ]
  },
  {
   "cell_type": "code",
   "execution_count": 29,
   "metadata": {},
   "outputs": [
    {
     "name": "stdout",
     "output_type": "stream",
     "text": [
      "epochs -  1 loss -  25.321744156025517\n",
      "epochs -  2 loss -  18.320004165722047\n",
      "epochs -  3 loss -  9.473661050729625\n",
      "epochs -  4 loss -  3.252093863403161\n",
      "epochs -  5 loss -  1.3407132589299964\n"
     ]
    }
   ],
   "source": [
    "parameters = initialize_parameters([2,2,1])\n",
    "epochs = 10 \n",
    "\n",
    "for i in range(epochs):\n",
    "    loss = []\n",
    "\n",
    "    for j in range(df.shape[0]):\n",
    "        X = df[['cgpa' , 'profile_score']].values[j].reshape(2,1)\n",
    "        y = df[['lpa']].values[j][0]\n",
    "\n",
    "        y_hat , A1 = L_layer_forward(X , parameters)\n",
    "        y_hat = y_hat[0][0]\n",
    "\n",
    "        update_parameters(parameters , y , y_hat , A1 , X)\n",
    "\n",
    "        loss.append((y-y_hat)**2)\n",
    "\n",
    "    print('epochs - ' , i+1 , 'loss - ' , np.array(loss).mean())\n",
    "\n"
   ]
  }
 ],
 "metadata": {
  "kernelspec": {
   "display_name": "Python 3",
   "language": "python",
   "name": "python3"
  },
  "language_info": {
   "codemirror_mode": {
    "name": "ipython",
    "version": 3
   },
   "file_extension": ".py",
   "mimetype": "text/x-python",
   "name": "python",
   "nbconvert_exporter": "python",
   "pygments_lexer": "ipython3",
   "version": "3.12.3"
  }
 },
 "nbformat": 4,
 "nbformat_minor": 2
}
